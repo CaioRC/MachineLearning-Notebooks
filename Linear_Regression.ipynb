{
  "nbformat": 4,
  "nbformat_minor": 0,
  "metadata": {
    "colab": {
      "name": "Linear_Regression.ipynb",
      "provenance": [],
      "collapsed_sections": []
    },
    "kernelspec": {
      "name": "python3",
      "display_name": "Python 3"
    },
    "accelerator": "GPU"
  },
  "cells": [
    {
      "cell_type": "code",
      "metadata": {
        "id": "Z9nU6T1Ww5xd"
      },
      "source": [
        "import numpy as np\n",
        "import pandas as pd\n",
        "import matplotlib.pyplot as plt"
      ],
      "execution_count": null,
      "outputs": []
    },
    {
      "cell_type": "code",
      "metadata": {
        "id": "hCZtxDCVAyhS"
      },
      "source": [
        "df = pd.DataFrame({'Peso': np.array([40.0, 93.5, 35.5, 30.0, 52.0, 17.0, 38.5,  8.5, 33.0,  9.5, 21.0, 79.0]) / 2.205,\n",
        "                            'Altura': np.array([42.8, 63.5, 37.5, 39.5, 45.5, 38.5, 43.0, 22.5, 37.0, 23.5, 33.0, 58.0]) / 39.37,\n",
        "                            'Cateter': [37, 50, 34, 36, 43, 28, 37, 20, 34, 30, 38, 47]},\n",
        "                            dtype='float')"
      ],
      "execution_count": null,
      "outputs": []
    },
    {
      "cell_type": "markdown",
      "metadata": {
        "id": "DgItAs4Hsw6o"
      },
      "source": [
        "**Separação dos Datasets**"
      ]
    },
    {
      "cell_type": "code",
      "metadata": {
        "id": "oGk5OwFV_TUa"
      },
      "source": [
        "y = df['Cateter'].to_numpy()\n",
        "x = df[['Peso' , 'Altura']].to_numpy()"
      ],
      "execution_count": null,
      "outputs": []
    },
    {
      "cell_type": "markdown",
      "metadata": {
        "id": "auq4Zl1Fsp0m"
      },
      "source": [
        "**Normalização dos Dados**"
      ]
    },
    {
      "cell_type": "code",
      "metadata": {
        "id": "F68Is1hvs9r5"
      },
      "source": [
        "x_normal = (x - x.mean(axis=0)) / x.std(axis=0)\n",
        "\n",
        "N , D = x_normal.shape\n",
        "x_normal = np.hstack((np.ones((N,1)),x_normal))\n",
        "\n",
        "y_normal = (y - y.mean(axis=0)) / y.std(axis=0)\n"
      ],
      "execution_count": null,
      "outputs": []
    },
    {
      "cell_type": "markdown",
      "metadata": {
        "id": "V2Ldxf0V1fWv"
      },
      "source": [
        "**Gradiente Descendente**"
      ]
    },
    {
      "cell_type": "code",
      "metadata": {
        "id": "cBP6y5w7_VX5"
      },
      "source": [
        "def calculoErroQuadrado( w ,x , y , i):\n",
        "  return (y[i] - w @ x[i].T) * x[i]\n",
        "\n",
        "def gd(alpha , x , y , num_epochs):\n",
        "  #definir os w iniciais\n",
        "  w_antigo =  np.random.rand(x.shape[1])\n",
        "\n",
        "  for epochs in range(num_epochs):\n",
        "    sum_erro = 0\n",
        "    #somatorios dos erros\n",
        "    for i in range(len(x)):\n",
        "      sum_erro += calculoErroQuadrado(w_antigo , x , y , i)\n",
        "\n",
        "    w_atual = w_antigo + alpha*(1/x.shape[0])*sum_erro\n",
        "    w_antigo = w_atual\n",
        "  return w_atual;\n",
        "\n",
        "def predict(w , x ):\n",
        "  y_pred = []\n",
        "  for i in range(x.shape[0]):\n",
        "    y_pred.append(w.transpose() @ x[i])\n",
        "  return y_pred"
      ],
      "execution_count": null,
      "outputs": []
    },
    {
      "cell_type": "markdown",
      "metadata": {
        "id": "21LeYCLeKRdj"
      },
      "source": [
        "**GRADIENTE DESCENDENTE ESTOCASTICO**"
      ]
    },
    {
      "cell_type": "code",
      "metadata": {
        "id": "JtT_tqbNKYN8"
      },
      "source": [
        "def shuffle(X,y):\n",
        "  assert len(X) == len(y)\n",
        "  p = np.random.permutation(len(X))\n",
        "  return X[p], y[p]\n",
        "\n",
        "def gdEstocastico(alpha , x , y , num_epochs):\n",
        "  #definir os w iniciais\n",
        "  w =  np.random.rand(3)\n",
        "\n",
        "  for epochs in range(num_epochs):\n",
        "    erro = 0\n",
        "    for i in range(len(x)):\n",
        "      erro = calculoErroQuadrado(w , x , y , i)\n",
        "      w_atual = w + alpha*erro\n",
        "      w = w_atual\n",
        "    x,y = shuffle(x,y)\n",
        "\n",
        "  return w_atual;"
      ],
      "execution_count": null,
      "outputs": []
    },
    {
      "cell_type": "markdown",
      "metadata": {
        "id": "FDzP6KVaKeN7"
      },
      "source": [
        "**REGRESSÃO LINEAR ANALÍTICA**"
      ]
    },
    {
      "cell_type": "code",
      "metadata": {
        "id": "6Iu6mgHpK-Z6"
      },
      "source": [
        "def anali(x,y):\n",
        "  return np.linalg.inv(x.transpose() @ x) @ x.transpose() @ y"
      ],
      "execution_count": null,
      "outputs": []
    },
    {
      "cell_type": "code",
      "metadata": {
        "id": "LvNItxrpHsb4",
        "colab": {
          "base_uri": "https://localhost:8080/",
          "height": 173
        },
        "outputId": "7ba959c3-dd45-4dc5-ffb6-af9ffab5c34c"
      },
      "source": [
        "w = gd(0.01, x_normal , y_normal , 10000)\n",
        "w_esto = gdEstocastico(0.01 , x_normal , y_normal ,10000)\n",
        "w_ana = anali(x_normal,y_normal)\n",
        "Y_pred= predict(w_ana,x_normal)\n",
        "print(\"W analitico {}\".format(w_ana))\n",
        "print(\"W Gradiente descendente {}\".format(w))\n",
        "print(\"W Gradiente descendente Estocastico {}\".format(w_esto))\n",
        "print(\"Y ANALITICO: {}\".format(predict(w_ana,x_normal)))\n",
        "print(\"Y Gradiente Descendente {}\".format(Y_pred))\n",
        "print(\"Y Gradiente descendente Estocastico {}\".format(predict(w_esto,x_normal)))\n",
        "print(\"Y Real {}\".format(y_normal))"
      ],
      "execution_count": null,
      "outputs": [
        {
          "output_type": "stream",
          "text": [
            "W analitico [3.46944695e-16 6.08893878e-01 3.07583303e-01]\n",
            "W Gradiente descendente [3.60322440e-16 6.13633320e-01 3.02843861e-01]\n",
            "W Gradiente descendente Estocastico [-0.00078992  0.6011054   0.30946727]\n",
            "Y ANALITICO: [0.11148165579334063, 1.9743735891138292, -0.14100130437770883, -0.22140290890712241, 0.4770288525347196, -0.5655988873365403, 0.08025565777472185, -1.2037086534149806, -0.21547471436851307, -1.1523864126572767, -0.6160128358471378, 1.4724459616926722]\n",
            "Y Gradiente Descendente [0.11148165579334063, 1.9743735891138292, -0.14100130437770883, -0.22140290890712241, 0.4770288525347196, -0.5655988873365403, 0.08025565777472185, -1.2037086534149806, -0.21547471436851307, -1.1523864126572767, -0.6160128358471378, 1.4724459616926722]\n",
            "Y Gradiente descendente Estocastico [0.11050892914777702, 1.960111700810903, -0.1414429773536055, -0.21979784703909871, 0.4727550526837494, -0.5601003021515317, 0.0797841789755819, -1.1981943111848508, -0.2152183598418398, -1.147019391276364, -0.6126697296117504, 1.461803989911267]\n",
            "Y Real [ 0.10643117  1.76675743 -0.27672104 -0.02128623  0.8727356  -1.04302547\n",
            "  0.10643117 -2.0647647  -0.27672104 -0.78759066  0.23414857  1.38360521]\n"
          ],
          "name": "stdout"
        }
      ]
    },
    {
      "cell_type": "code",
      "metadata": {
        "id": "TqLojhoeHlnt",
        "colab": {
          "base_uri": "https://localhost:8080/",
          "height": 282
        },
        "outputId": "d8c4e393-b141-4bcc-9a85-3137042b5fdb"
      },
      "source": [
        "plt.plot(y_normal,Y_pred, '.')"
      ],
      "execution_count": null,
      "outputs": [
        {
          "output_type": "execute_result",
          "data": {
            "text/plain": [
              "[<matplotlib.lines.Line2D at 0x7f7e031895c0>]"
            ]
          },
          "metadata": {
            "tags": []
          },
          "execution_count": 16
        },
        {
          "output_type": "display_data",
          "data": {
            "image/png": "[encoded data removed]",
            "text/plain": [
              "<Figure size 432x288 with 1 Axes>"
            ]
          },
          "metadata": {
            "tags": [],
            "needs_background": "light"
          }
        }
      ]
    },
    {
      "cell_type": "code",
      "metadata": {
        "id": "0Hcpr98rSlrE"
      },
      "source": [
        ""
      ],
      "execution_count": null,
      "outputs": []
    },
    {
      "cell_type": "code",
      "metadata": {
        "id": "ylEXD3d2Ukvm"
      },
      "source": [
        "from sklearn.datasets import load_boston\n",
        "\n",
        "X, y = load_boston(return_X_y=True)\n",
        "\n",
        "x_normal = (X - X.min(axis=0))/(X.max(axis=0) - X.min(axis=0))\n",
        "\n",
        "y_normal = (y - y.min(axis=0))/(y.max(axis=0) - y.min(axis=0))\n",
        "\n",
        "N , D = x_normal.shape\n",
        "x_n = np.hstack((np.ones((N,1)),x_normal))\n",
        "\n",
        "w_ana = anali(x_n , y_normal)\n",
        "\n",
        "w = gd(0.01, x_n , y_normal , 10000)\n",
        "\n",
        "Y_pred= predict(w,x_n)\n",
        "\n",
        "#print(\"W analitico {}\".format(w_ana))\n",
        "#\n",
        "#print(\"W Gradiente descendente {}\".format(w))\n",
        "#print(\"Y ANALITICO: {}\".format(predict(w_ana,X)))\n",
        "#print(\"Y Gradiente Descendente {}\".format(Y_pred))\n",
        "#print(\"Y Real {}\".format(y))"
      ],
      "execution_count": null,
      "outputs": []
    },
    {
      "cell_type": "code",
      "metadata": {
        "id": "Ea6mCY-UTPE8"
      },
      "source": [
        ""
      ],
      "execution_count": null,
      "outputs": []
    },
    {
      "cell_type": "code",
      "metadata": {
        "id": "AdcJWDUCYZlK",
        "colab": {
          "base_uri": "https://localhost:8080/",
          "height": 282
        },
        "outputId": "6e76dc6b-0c60-4b6e-a52b-1d42562029af"
      },
      "source": [
        "plt.plot(y_normal,Y_pred, '.')"
      ],
      "execution_count": null,
      "outputs": [
        {
          "output_type": "execute_result",
          "data": {
            "text/plain": [
              "[<matplotlib.lines.Line2D at 0x7f61a121dd68>]"
            ]
          },
          "metadata": {
            "tags": []
          },
          "execution_count": 13
        },
        {
          "output_type": "display_data",
          "data": {
            "image/png": "[encoded data removed]",
            "text/plain": [
              "<Figure size 432x288 with 1 Axes>"
            ]
          },
          "metadata": {
            "tags": []
          }
        }
      ]
    },
    {
      "cell_type": "code",
      "metadata": {
        "id": "qFtayD0OaluL",
        "colab": {
          "base_uri": "https://localhost:8080/",
          "height": 180
        },
        "outputId": "af8be641-7f53-4b1a-c5da-470202583145"
      },
      "source": [
        "w += alpha * ( error * X).mean(axis=0)\n",
        "#Cálculo do somatorio sem for "
      ],
      "execution_count": null,
      "outputs": [
        {
          "output_type": "error",
          "ename": "NameError",
          "evalue": "ignored",
          "traceback": [
            "\u001b[0;31m---------------------------------------------------------------------------\u001b[0m",
            "\u001b[0;31mNameError\u001b[0m                                 Traceback (most recent call last)",
            "\u001b[0;32m<ipython-input-14-2a99feeb42e7>\u001b[0m in \u001b[0;36m<module>\u001b[0;34m()\u001b[0m\n\u001b[0;32m----> 1\u001b[0;31m \u001b[0mw\u001b[0m \u001b[0;34m+=\u001b[0m \u001b[0malpha\u001b[0m \u001b[0;34m*\u001b[0m \u001b[0;34m(\u001b[0m \u001b[0merror\u001b[0m \u001b[0;34m*\u001b[0m \u001b[0mX\u001b[0m\u001b[0;34m)\u001b[0m\u001b[0;34m.\u001b[0m\u001b[0mmean\u001b[0m\u001b[0;34m(\u001b[0m\u001b[0maxis\u001b[0m\u001b[0;34m=\u001b[0m\u001b[0;36m0\u001b[0m\u001b[0;34m)\u001b[0m\u001b[0;34m\u001b[0m\u001b[0;34m\u001b[0m\u001b[0m\n\u001b[0m\u001b[1;32m      2\u001b[0m \u001b[0;31m#Cálculo do somatorio sem for Ñ FAZER FOR\u001b[0m\u001b[0;34m\u001b[0m\u001b[0;34m\u001b[0m\u001b[0;34m\u001b[0m\u001b[0m\n",
            "\u001b[0;31mNameError\u001b[0m: name 'alpha' is not defined"
          ]
        }
      ]
    }
  ]
}